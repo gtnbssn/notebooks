{
  "nbformat": 4,
  "nbformat_minor": 0,
  "metadata": {
    "colab": {
      "name": "quick and dirty deep dream",
      "private_outputs": true,
      "provenance": [],
      "authorship_tag": "ABX9TyPlGJ6wXWiVwY7mvkDzzKpi",
      "include_colab_link": true
    },
    "kernelspec": {
      "name": "python3",
      "display_name": "Python 3"
    },
    "language_info": {
      "name": "python"
    },
    "accelerator": "GPU"
  },
  "cells": [
    {
      "cell_type": "markdown",
      "metadata": {
        "id": "view-in-github",
        "colab_type": "text"
      },
      "source": [
        "<a href=\"https://colab.research.google.com/github/gtnbssn/notebooks/blob/master/quick_and_dirty_deep_dream.ipynb\" target=\"_parent\"><img src=\"https://colab.research.google.com/assets/colab-badge.svg\" alt=\"Open In Colab\"/></a>"
      ]
    },
    {
      "cell_type": "markdown",
      "metadata": {
        "id": "OOo8LqLCUWLZ"
      },
      "source": [
        "# **WAT**\n",
        "\n",
        "This notebook mixes text and code. Code cells have a grey background and two brackets like this: [ ] in their top left corner.\n",
        "\n",
        "First go into the menu on top, and under runtime choose \"change runtime type\". You want to have a GPU.\n",
        "\n",
        "Each code cell has a little \"play\" button that appears in place of the brackets when you place your cursor over the cell. Click on the button once to execute the code and wait for it to stop spinning.\n",
        "\n",
        "# **THE FIRST CELL IS THE SETUP**\n",
        "\n",
        "Run the following cell once to set everything up!"
      ]
    },
    {
      "cell_type": "code",
      "metadata": {
        "id": "gj5D6AoB4Sgw"
      },
      "source": [
        "!git clone https://github.com/lucidrains/big-sleep\n",
        "!git clone https://github.com/lucidrains/deep-daze\n",
        "%cd /content/big-sleep/\n",
        "!python3 setup.py install\n",
        "%cd /content/deep-daze/\n",
        "!python3 setup.py install\n",
        "!mkdir -p /content/output\n",
        "%cd /content/output"
      ],
      "execution_count": null,
      "outputs": []
    },
    {
      "cell_type": "markdown",
      "metadata": {
        "id": "eUACx0h4VBym"
      },
      "source": [
        "Run the following cell **IF AND ONLY IF** you want to save images to your google drive.\n",
        "\n",
        "It will create a \"DeepDreamOutput\" folder in your google drive and save the images there. If somehow you already have a directory with this name, things might get overwritten.\n",
        "\n",
        "**DO NOT RUN THIS CELL IF YOU DO NOT WANT TO SAVE TO GOOGLE DRIVE,** just go straight to the next cell."
      ]
    },
    {
      "cell_type": "code",
      "metadata": {
        "id": "-AQ-mwFgTPzG"
      },
      "source": [
        "from google.colab import drive\n",
        "drive.mount('/content/drive/')\n",
        "!mkdir -p /content/drive/MyDrive/DeepDreamOutput\n",
        "%cd /content/drive/MyDrive/DeepDreamOutput"
      ],
      "execution_count": null,
      "outputs": []
    },
    {
      "cell_type": "markdown",
      "metadata": {
        "id": "Os4ZtCb8VarN"
      },
      "source": [
        "# **THIS IS WHERE THE ACTION IS**\n",
        "\n",
        "Run the following cells to generate images. There are two versions \"dream\" and \"imagine\", see which one you prefer!\n",
        "\n",
        "**timeout**\n",
        "\n",
        "It will stop after 300 seconds, change the timeout value if you want to experiment with this. (Without a timeout it will do 20 epochs of 1050 iterations each. It will take alot of time.)\n",
        "\n",
        "**Monitoring progress**\n",
        "\n",
        "Right now it will save an image every 50 iterations, change the value after \"save-every\" to see more or less images.\n",
        "\n",
        "**where are my images?**\n",
        "\n",
        "If you haven't connected the notebook to your google drive in the previous cell, images will be saved in a folder called \"output\", you can find it in the left panel.\n",
        "\n",
        "**ok let's roll**\n",
        "\n",
        "Change the prompt between the quotes and have fun!\n",
        "\n",
        "If you run it twice with the same prompt, it will ask you if you want to overwrite the existing image. The timer does not stop running while the program waits for your answer.\n",
        "\n",
        "You can add things like \"a realistic painting of ...\" or \"a photograph of...\" at the beginning of your prompt, it does change the result!"
      ]
    },
    {
      "cell_type": "code",
      "metadata": {
        "id": "A0c4UlE1EgvB"
      },
      "source": [
        "!timeout 300 dream \"Knowledge is the plague of life, and consciousness, an open wound in its heart.\" --random --save-progress --save-every 50"
      ],
      "execution_count": null,
      "outputs": []
    },
    {
      "cell_type": "markdown",
      "metadata": {
        "id": "65A5NTdicW8q"
      },
      "source": [
        "# **CREDITZ**\n",
        "\n",
        "As far as i know the original idea is from [Ryan Murdoch](https://twitter.com/advadnoun), but as usual it leverages a lot of prior work.\n",
        "\n",
        "Someone on github (Lucidrains /  Phil Wang) packaged his work to make it easier to use, the repo is [here](https://github.com/lucidrains/big-sleep)."
      ]
    },
    {
      "cell_type": "markdown",
      "metadata": {
        "id": "aEUwacUOhua-"
      },
      "source": [
        "# **BONUS CELL!!!**\n",
        "\n",
        "Ryan Murdock did another version, which was also made easier to use by Lucidrains. It has a lot more options, you can find out all about it in the [github repository](https://github.com/lucidrains/deep-daze). Try this:"
      ]
    },
    {
      "cell_type": "code",
      "metadata": {
        "id": "TYrEEqvDh7gU"
      },
      "source": [
        "!imagine \"Knowledge is the plague of life, and consciousness, an open wound in its heart.\" --save-progress --save-every 50"
      ],
      "execution_count": null,
      "outputs": []
    }
  ]
}